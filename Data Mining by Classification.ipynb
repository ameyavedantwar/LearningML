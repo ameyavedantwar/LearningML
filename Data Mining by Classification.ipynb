{
  "nbformat": 4,
  "nbformat_minor": 0,
  "metadata": {
    "colab": {
      "name": "Untitled2.ipynb",
      "provenance": []
    },
    "kernelspec": {
      "name": "python3",
      "display_name": "Python 3"
    },
    "language_info": {
      "name": "python"
    }
  },
  "cells": [
    {
      "cell_type": "code",
      "execution_count": null,
      "metadata": {
        "id": "Dczk6vyhsFsN"
      },
      "outputs": [],
      "source": [
        "import numpy as np\n",
        "import pandas as pd\n",
        "from sklearn.model_selection import train_test_split\n",
        "df = pd.read_csv(\"D:/Swansea/Uni/CSCM35 Data Mining/Assignment 2/iris.csv\")\n",
        "file = np.load(\"D:\\Swansea/Uni/CSCM35 Data Mining/Assignment 2/iris_labels.npy\")\n",
        "\n",
        "\n",
        "    \n",
        "X_train, X_test, y_train, y_test = train_test_split(df, file, train_size=0.4, test_size=0.4, random_state=0)\n",
        "(df.groupby(\"variety\").size())\n",
        "seto = df[1:50]\n",
        "veri = df[50:100]\n",
        "virgi = df[100:151]\n",
        "\n",
        "mean = np.mean(df, axis = 0)\n",
        "vari = np.var(df,axis = 0)\n",
        "\n",
        "m1 = seto.mean()\n",
        "m2 = veri.mean()\n",
        "m3 = virgi.mean()\n",
        "\n",
        "s1 = seto.std()\n",
        "s2 = veri.std()\n",
        "s3 = virgi.std()"
      ]
    }
  ]
}