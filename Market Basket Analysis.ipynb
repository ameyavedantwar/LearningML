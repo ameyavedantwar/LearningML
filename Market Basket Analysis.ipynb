{
 "cells": [
  {
   "cell_type": "code",
   "execution_count": 15,
   "id": "efc28780",
   "metadata": {},
   "outputs": [],
   "source": [
    "import pandas as pd\n",
    "import numpy as np\n",
    "import math\n",
    "\n",
    "df = pd.read_csv('D:/Swansea/Uni/CSCM35 Data Mining/Coursework 2/data/GroceryStore.csv')\n",
    "\n",
    "df.index.rename('TID', inplace=True)\n",
    "df.rename(columns={'MILK,BREAD,BISCUIT' : 'Products'}, inplace=True)\n",
    "#print(df)\n",
    "trans_df = df.Products.str.split(',')\n"
   ]
  },
  {
   "cell_type": "code",
   "execution_count": 16,
   "id": "1322afcf",
   "metadata": {},
   "outputs": [],
   "source": [
    "def prune(data,support):\n",
    "    \n",
    "    df = data[data.support_count >= support] \n",
    "    return df\n"
   ]
  },
  {
   "cell_type": "code",
   "execution_count": 17,
   "id": "3f653c04",
   "metadata": {},
   "outputs": [],
   "source": [
    "def count_itemset(df, itemsets):   #Counting the group of elements in the dataset\n",
    "                                    \n",
    "    count_item = {}\n",
    "    for item_set in itemsets:\n",
    "        set_A = set(item_set)\n",
    "        for row in trans_df:\n",
    "            set_B = set(row)\n",
    "        \n",
    "            if set_B.intersection(set_A) == set_A: \n",
    "                if item_set in count_item.keys():\n",
    "                    count_item[item_set] += 1\n",
    "                \n",
    "                else:\n",
    "                    count_item[item_set] = 1\n",
    "                \n",
    "    data = pd.DataFrame()\n",
    "    data['item_sets'] = count_item.keys()\n",
    "    data['support_count'] = count_item.values()\n",
    "    #print(data)\n",
    "    \n",
    "    return data\n"
   ]
  },
  {
   "cell_type": "code",
   "execution_count": 18,
   "id": "66d9504d",
   "metadata": {},
   "outputs": [],
   "source": [
    "def count_item(transaction_items): #Individual element are being counted over here.\n",
    "    \n",
    "    count_ind_item = {}\n",
    "    for row in transaction_items:\n",
    "        for i in range(len(row)):\n",
    "            if row[i] in count_ind_item.keys():\n",
    "                count_ind_item[row[i]] += 1\n",
    "            else:\n",
    "                count_ind_item[row[i]] = 1\n",
    "    \n",
    "    data = pd.DataFrame()\n",
    "    data['item_sets'] = count_ind_item.keys()\n",
    "    data['support_count'] = count_ind_item.values()\n",
    "    data = data.sort_values('item_sets')\n",
    "    return data\n"
   ]
  },
  {
   "cell_type": "code",
   "execution_count": 19,
   "id": "67b43015",
   "metadata": {},
   "outputs": [],
   "source": [
    "def join(items_list):\n",
    "    itemsets = []\n",
    "    i = 1\n",
    "    for entry in items_list:\n",
    "        proceding_items = items_list[i:]\n",
    "        for item in proceding_items:\n",
    "            if(type(item) is str):\n",
    "                if entry != item:\n",
    "                    tuples = (entry, item)\n",
    "                    itemsets.append(tuples)\n",
    "            else:\n",
    "                if entry[0:-1] == item[0:-1]:\n",
    "                    tuples = entry+item[1:]\n",
    "                    itemsets.append(tuples)\n",
    "        i = i+1\n",
    "        \n",
    "    if(len(itemsets) == 0):\n",
    "        return None\n",
    "    return itemsets\n"
   ]
  },
  {
   "cell_type": "code",
   "execution_count": 20,
   "id": "d8ec7e00",
   "metadata": {},
   "outputs": [],
   "source": [
    "def apriori(trans_data,support=3, con=0.5): #Implementing Apriori algorithm\n",
    "    freq = pd.DataFrame()\n",
    "    \n",
    "    df = count_item(trans_data)\n",
    "   \n",
    "    while(len(df) != 0):\n",
    "        \n",
    "        df = prune(df, support)\n",
    "    \n",
    "        if len(df) > 1 or (len(df) == 1 and int(df.support_count >= support)):\n",
    "            freq = df\n",
    "            print(freq)\n",
    "        itemsets = join(df.item_sets)\n",
    "    \n",
    "        if(itemsets is None):\n",
    "            return freq\n",
    "    \n",
    "        df = count_itemset(trans_data, itemsets)\n",
    "        #print(df)\n",
    "    return df\n"
   ]
  },
  {
   "cell_type": "code",
   "execution_count": 8,
   "id": "dd9b72ab",
   "metadata": {},
   "outputs": [
    {
     "name": "stdout",
     "output_type": "stream",
     "text": [
      "     item_sets  support_count\n",
      "2      BISCUIT              7\n",
      "5    BOURNVITA              4\n",
      "1        BREAD             13\n",
      "9         COCK              3\n",
      "8       COFFEE              8\n",
      "3   CORNFLAKES              6\n",
      "6          JAM              2\n",
      "7        MAGGI              5\n",
      "0         MILK              5\n",
      "10       SUGER              6\n",
      "4          TEA              7\n",
      "                item_sets  support_count\n",
      "0        (BISCUIT, BREAD)              4\n",
      "1         (BISCUIT, COCK)              2\n",
      "2       (BISCUIT, COFFEE)              2\n",
      "3   (BISCUIT, CORNFLAKES)              3\n",
      "4        (BISCUIT, MAGGI)              2\n",
      "5         (BISCUIT, MILK)              2\n",
      "7          (BISCUIT, TEA)              2\n",
      "8      (BOURNVITA, BREAD)              3\n",
      "10     (BOURNVITA, SUGER)              2\n",
      "11       (BOURNVITA, TEA)              2\n",
      "13        (BREAD, COFFEE)              3\n",
      "15           (BREAD, JAM)              2\n",
      "16         (BREAD, MAGGI)              3\n",
      "17          (BREAD, MILK)              4\n",
      "18         (BREAD, SUGER)              4\n",
      "19           (BREAD, TEA)              4\n",
      "20         (COCK, COFFEE)              3\n",
      "21     (COCK, CORNFLAKES)              2\n",
      "22   (COFFEE, CORNFLAKES)              4\n",
      "24        (COFFEE, SUGER)              4\n",
      "27     (CORNFLAKES, MILK)              2\n",
      "29      (CORNFLAKES, TEA)              2\n",
      "30           (JAM, MAGGI)              2\n",
      "34           (MAGGI, TEA)              4\n",
      "                        item_sets  support_count\n",
      "2          (BISCUIT, BREAD, MILK)              2\n",
      "4         (BISCUIT, COCK, COFFEE)              2\n",
      "5     (BISCUIT, COCK, CORNFLAKES)              2\n",
      "6   (BISCUIT, COFFEE, CORNFLAKES)              2\n",
      "8           (BISCUIT, MAGGI, TEA)              2\n",
      "10        (BOURNVITA, BREAD, TEA)              2\n",
      "11         (BREAD, COFFEE, SUGER)              2\n",
      "12            (BREAD, JAM, MAGGI)              2\n",
      "16            (BREAD, MAGGI, TEA)              2\n",
      "17     (COCK, COFFEE, CORNFLAKES)              2\n",
      "                                   item_sets  support_count\n",
      "0  (BISCUIT, COCK, COFFEE, COCK, CORNFLAKES)              2\n"
     ]
    }
   ],
   "source": [
    "freq_item_sets = apriori(trans_df, 2)"
   ]
  },
  {
   "cell_type": "code",
   "execution_count": 9,
   "id": "f0f09a91",
   "metadata": {},
   "outputs": [
    {
     "name": "stdout",
     "output_type": "stream",
     "text": [
      "     item_sets  support_count\n",
      "2      BISCUIT              7\n",
      "5    BOURNVITA              4\n",
      "1        BREAD             13\n",
      "9         COCK              3\n",
      "8       COFFEE              8\n",
      "3   CORNFLAKES              6\n",
      "7        MAGGI              5\n",
      "0         MILK              5\n",
      "10       SUGER              6\n",
      "4          TEA              7\n",
      "                item_sets  support_count\n",
      "0        (BISCUIT, BREAD)              4\n",
      "3   (BISCUIT, CORNFLAKES)              3\n",
      "8      (BOURNVITA, BREAD)              3\n",
      "13        (BREAD, COFFEE)              3\n",
      "15         (BREAD, MAGGI)              3\n",
      "16          (BREAD, MILK)              4\n",
      "17         (BREAD, SUGER)              4\n",
      "18           (BREAD, TEA)              4\n",
      "19         (COCK, COFFEE)              3\n",
      "21   (COFFEE, CORNFLAKES)              4\n",
      "23        (COFFEE, SUGER)              4\n",
      "30           (MAGGI, TEA)              4\n"
     ]
    }
   ],
   "source": [
    "freq_item_sets = apriori(trans_df, 3)"
   ]
  },
  {
   "cell_type": "code",
   "execution_count": 21,
   "id": "c4254aec",
   "metadata": {},
   "outputs": [
    {
     "name": "stdout",
     "output_type": "stream",
     "text": [
      "     item_sets  support_count\n",
      "2      BISCUIT              7\n",
      "5    BOURNVITA              4\n",
      "1        BREAD             13\n",
      "8       COFFEE              8\n",
      "3   CORNFLAKES              6\n",
      "7        MAGGI              5\n",
      "0         MILK              5\n",
      "10       SUGER              6\n",
      "4          TEA              7\n",
      "               item_sets  support_count\n",
      "0       (BISCUIT, BREAD)              4\n",
      "14         (BREAD, MILK)              4\n",
      "15        (BREAD, SUGER)              4\n",
      "16          (BREAD, TEA)              4\n",
      "17  (COFFEE, CORNFLAKES)              4\n",
      "19       (COFFEE, SUGER)              4\n",
      "26          (MAGGI, TEA)              4\n"
     ]
    }
   ],
   "source": [
    "freq_item_sets = apriori(trans_df, 4) "
   ]
  },
  {
   "cell_type": "code",
   "execution_count": 22,
   "id": "9cf08d20",
   "metadata": {},
   "outputs": [],
   "source": [
    "def calculate_conf(value1, value2): #Counting confidence\n",
    "    return round(int(value1)/int(value2) * 100, 2)\n"
   ]
  },
  {
   "cell_type": "code",
   "execution_count": 24,
   "id": "57341558",
   "metadata": {},
   "outputs": [
    {
     "name": "stdout",
     "output_type": "stream",
     "text": [
      "                item_set  confidence\n",
      "0       (BISCUIT, BREAD)       57.14\n",
      "3          (MILK, BREAD)       80.00\n",
      "5         (SUGER, BREAD)       66.67\n",
      "7           (TEA, BREAD)       57.14\n",
      "8   (COFFEE, CORNFLAKES)       50.00\n",
      "9   (CORNFLAKES, COFFEE)       66.67\n",
      "10       (COFFEE, SUGER)       50.00\n",
      "11       (SUGER, COFFEE)       66.67\n",
      "12          (MAGGI, TEA)       80.00\n",
      "13          (TEA, MAGGI)       57.14\n"
     ]
    }
   ],
   "source": [
    "def strong_rules(freq_item_sets, threshold): #setting interesting rules \n",
    "\n",
    "    confidences = {}\n",
    "    for row in freq_item_sets.item_sets:\n",
    "        for i in range(len(row)):\n",
    "            for j in range(len(row)):\n",
    "                 if i != j:\n",
    "                    tuples = (row[i], row[j])\n",
    "                    conf = calculate_conf(freq_item_sets[freq_item_sets.item_sets == row].support_count, count_item(trans_df)[count_item(trans_df).item_sets == row[i]].support_count)\n",
    "                    confidences[tuples] = conf\n",
    "\n",
    "        \n",
    "    conf_df = pd.DataFrame()\n",
    "    conf_df['item_set'] = confidences.keys()\n",
    "    conf_df['confidence'] = confidences.values()\n",
    "    \n",
    "\n",
    "    return conf_df[conf_df.confidence >= threshold]\n",
    "\n",
    "print(strong_rules(freq_item_sets, 50.0))\n"
   ]
  },
  {
   "cell_type": "code",
   "execution_count": 25,
   "id": "f772d65f",
   "metadata": {},
   "outputs": [
    {
     "name": "stdout",
     "output_type": "stream",
     "text": [
      "                  Rules  lift\n",
      "0      (BISCUIT, BREAD)  0.79\n",
      "1         (BREAD, MILK)  1.11\n",
      "2        (BREAD, SUGER)  0.92\n",
      "3          (BREAD, TEA)  0.79\n",
      "4  (COFFEE, CORNFLAKES)  1.50\n",
      "5       (COFFEE, SUGER)  1.50\n",
      "6          (MAGGI, TEA)  2.06\n"
     ]
    }
   ],
   "source": [
    "from functools import reduce\n",
    "import operator\n",
    "\n",
    "def interesting_rules(freq_item_sets):\n",
    "    \n",
    "    lifts = {}\n",
    "    prob_of_items = []\n",
    "  \n",
    "    for row in freq_item_sets.item_sets:\n",
    "        num_of_items = len(row)\n",
    "        \n",
    "        prob_all = freq_item_sets[freq_item_sets.item_sets == row].support_count / 18\n",
    "        for i in range(num_of_items):\n",
    "            prob_of_items.append(count_item(trans_df)[count_item(trans_df).item_sets == row[i]].support_count / 18)\n",
    "        \n",
    "        lifts[row] = round(float(prob_all / reduce(operator.mul, (np.array(prob_of_items)), 1)), 2)\n",
    "        \n",
    "        prob_of_items = []\n",
    "        \n",
    "    \n",
    "    lifts_df = pd.DataFrame()\n",
    "    lifts_df['Rules'] = lifts.keys()\n",
    "    lifts_df['lift'] = lifts.values()\n",
    "    return lifts_df\n",
    "\n",
    "int_rules = interesting_rules(freq_item_sets)\n",
    "print(int_rules)"
   ]
  },
  {
   "cell_type": "code",
   "execution_count": null,
   "id": "2af0ca4b",
   "metadata": {},
   "outputs": [],
   "source": [
    "'''\n",
    "Code Reference:\n",
    "KHAN, B. (2021, 11). Apriori Algorithm from Scratch. Retrieved from Kaggle:\n",
    "    https://www.kaggle.com/code/rushikeshmmore/apriori-algorithm-on-online-retail-dataset\n",
    "'''"
   ]
  }
 ],
 "metadata": {
  "kernelspec": {
   "display_name": "Python 3 (ipykernel)",
   "language": "python",
   "name": "python3"
  },
  "language_info": {
   "codemirror_mode": {
    "name": "ipython",
    "version": 3
   },
   "file_extension": ".py",
   "mimetype": "text/x-python",
   "name": "python",
   "nbconvert_exporter": "python",
   "pygments_lexer": "ipython3",
   "version": "3.9.7"
  }
 },
 "nbformat": 4,
 "nbformat_minor": 5
}
