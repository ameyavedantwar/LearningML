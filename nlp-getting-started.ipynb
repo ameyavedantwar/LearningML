{
 "cells": [
  {
   "cell_type": "code",
   "execution_count": 1,
   "id": "9dd0a087",
   "metadata": {
    "_cell_guid": "b1076dfc-b9ad-4769-8c92-a6c4dae69d19",
    "_uuid": "8f2839f25d086af736a60e9eeb907d3b93b6e0e5",
    "execution": {
     "iopub.execute_input": "2023-04-09T14:24:44.167048Z",
     "iopub.status.busy": "2023-04-09T14:24:44.166361Z",
     "iopub.status.idle": "2023-04-09T14:24:44.194097Z",
     "shell.execute_reply": "2023-04-09T14:24:44.192587Z"
    },
    "papermill": {
     "duration": 0.037056,
     "end_time": "2023-04-09T14:24:44.197227",
     "exception": false,
     "start_time": "2023-04-09T14:24:44.160171",
     "status": "completed"
    },
    "tags": []
   },
   "outputs": [
    {
     "name": "stdout",
     "output_type": "stream",
     "text": [
      "/kaggle/input/nlp-getting-started/sample_submission.csv\n",
      "/kaggle/input/nlp-getting-started/train.csv\n",
      "/kaggle/input/nlp-getting-started/test.csv\n"
     ]
    }
   ],
   "source": [
    "# This Python 3 environment comes with many helpful analytics libraries installed\n",
    "# It is defined by the kaggle/python Docker image: https://github.com/kaggle/docker-python\n",
    "# For example, here's several helpful packages to load\n",
    "\n",
    "import numpy as np # linear algebra\n",
    "import pandas as pd # data processing, CSV file I/O (e.g. pd.read_csv)\n",
    "\n",
    "# Input data files are available in the read-only \"../input/\" directory\n",
    "# For example, running this (by clicking run or pressing Shift+Enter) will list all files under the input directory\n",
    "\n",
    "import os\n",
    "for dirname, _, filenames in os.walk('/kaggle/input'):\n",
    "    for filename in filenames:\n",
    "        print(os.path.join(dirname, filename))\n",
    "\n",
    "# You can write up to 20GB to the current directory (/kaggle/working/) that gets preserved as output when you create a version using \"Save & Run All\" \n",
    "# You can also write temporary files to /kaggle/temp/, but they won't be saved outside of the current session"
   ]
  },
  {
   "cell_type": "code",
   "execution_count": 2,
   "id": "4b4450bf",
   "metadata": {
    "execution": {
     "iopub.execute_input": "2023-04-09T14:24:44.205983Z",
     "iopub.status.busy": "2023-04-09T14:24:44.205145Z",
     "iopub.status.idle": "2023-04-09T14:24:45.747588Z",
     "shell.execute_reply": "2023-04-09T14:24:45.745192Z"
    },
    "papermill": {
     "duration": 1.550567,
     "end_time": "2023-04-09T14:24:45.750862",
     "exception": false,
     "start_time": "2023-04-09T14:24:44.200295",
     "status": "completed"
    },
    "tags": []
   },
   "outputs": [
    {
     "name": "stdout",
     "output_type": "stream",
     "text": [
      "index       0\n",
      "id          0\n",
      "keyword     0\n",
      "location    0\n",
      "text        0\n",
      "target      0\n",
      "dtype: int64\n",
      "             index            id       target\n",
      "count  5055.000000   5055.000000  5055.000000\n",
      "mean   3790.503264   5419.898318     0.433432\n",
      "std    2179.114948   3110.168870     0.495598\n",
      "min      31.000000     48.000000     0.000000\n",
      "25%    1909.500000   2746.000000     0.000000\n",
      "50%    3790.000000   5382.000000     0.000000\n",
      "75%    5672.000000   8095.000000     1.000000\n",
      "max    7581.000000  10833.000000     1.000000\n"
     ]
    }
   ],
   "source": [
    "#data cleaning\n",
    "import pandas as pd\n",
    "df = pd.read_csv('/kaggle/input/nlp-getting-started/train.csv', skipinitialspace=True)\n",
    "#print(df.describe())\n",
    "import seaborn as sns\n",
    "import matplotlib.pyplot as plt\n",
    "\n",
    "df.dropna(inplace=True)\n",
    "df.reset_index(inplace=True)\n",
    "import numpy as np\n",
    "\n",
    "for i in range(len(df)):\n",
    "    if(df.at[i,'location'].isdecimal()):\n",
    "        df.drop(i,inplace=True)\n",
    "df.reset_index(inplace=True)\n",
    "del df['level_0']\n",
    "print(df.isnull().sum())\n",
    "print(df.describe())"
   ]
  },
  {
   "cell_type": "code",
   "execution_count": 3,
   "id": "09da17cb",
   "metadata": {
    "execution": {
     "iopub.execute_input": "2023-04-09T14:24:45.759079Z",
     "iopub.status.busy": "2023-04-09T14:24:45.758021Z",
     "iopub.status.idle": "2023-04-09T14:24:46.368355Z",
     "shell.execute_reply": "2023-04-09T14:24:46.366127Z"
    },
    "papermill": {
     "duration": 0.617827,
     "end_time": "2023-04-09T14:24:46.371460",
     "exception": false,
     "start_time": "2023-04-09T14:24:45.753633",
     "status": "completed"
    },
    "tags": []
   },
   "outputs": [
    {
     "name": "stdout",
     "output_type": "stream",
     "text": [
      "  (0, 2870)\t1\n",
      "  (0, 3708)\t1\n",
      "  (0, 6594)\t1\n",
      "  (0, 7953)\t1\n",
      "  (0, 14099)\t1\n",
      "  (1, 1033)\t1\n",
      "  (1, 3221)\t1\n",
      "  (1, 4322)\t1\n",
      "  (1, 4770)\t1\n",
      "  (1, 5188)\t1\n",
      "  (1, 6712)\t1\n",
      "  (1, 7585)\t1\n",
      "  (1, 12452)\t1\n",
      "  (1, 13508)\t1\n",
      "  (2, 1086)\t1\n",
      "  (2, 1327)\t1\n",
      "  (2, 1599)\t1\n",
      "  (2, 1725)\t1\n",
      "  (2, 2838)\t1\n",
      "  (2, 5586)\t1\n",
      "  (2, 5651)\t1\n",
      "  (2, 5742)\t1\n",
      "  (2, 7585)\t1\n",
      "  (2, 11124)\t1\n",
      "  (2, 12560)\t1\n",
      "  :\t:\n",
      "  (3259, 16026)\t1\n",
      "  (3260, 3122)\t1\n",
      "  (3260, 3344)\t1\n",
      "  (3260, 4199)\t1\n",
      "  (3260, 6365)\t1\n",
      "  (3260, 7025)\t1\n",
      "  (3260, 7334)\t1\n",
      "  (3260, 8637)\t1\n",
      "  (3261, 467)\t1\n",
      "  (3261, 3344)\t1\n",
      "  (3261, 6668)\t1\n",
      "  (3261, 7025)\t1\n",
      "  (3261, 7095)\t1\n",
      "  (3261, 7606)\t1\n",
      "  (3261, 9210)\t1\n",
      "  (3261, 10549)\t1\n",
      "  (3261, 15485)\t1\n",
      "  (3262, 1095)\t1\n",
      "  (3262, 3227)\t1\n",
      "  (3262, 4940)\t1\n",
      "  (3262, 6637)\t1\n",
      "  (3262, 7617)\t1\n",
      "  (3262, 9695)\t1\n",
      "  (3262, 11016)\t1\n",
      "  (3262, 16181)\t1\n"
     ]
    }
   ],
   "source": [
    "from sklearn import feature_extraction, linear_model, model_selection, preprocessing\n",
    "count_vector = feature_extraction.text.CountVectorizer()    \n",
    "\n",
    "test_df = pd.read_csv('/kaggle/input/nlp-getting-started/test.csv', skipinitialspace=True)\n",
    "train_vector = count_vector.fit_transform(df[\"text\"])\n",
    "test_vector = count_vector.transform(test_df[\"text\"])\n",
    "print(test_vector)"
   ]
  },
  {
   "cell_type": "code",
   "execution_count": 4,
   "id": "a80276ae",
   "metadata": {
    "execution": {
     "iopub.execute_input": "2023-04-09T14:24:46.379055Z",
     "iopub.status.busy": "2023-04-09T14:24:46.378546Z",
     "iopub.status.idle": "2023-04-09T14:24:46.977606Z",
     "shell.execute_reply": "2023-04-09T14:24:46.975808Z"
    },
    "papermill": {
     "duration": 0.608929,
     "end_time": "2023-04-09T14:24:46.983076",
     "exception": false,
     "start_time": "2023-04-09T14:24:46.374147",
     "status": "completed"
    },
    "tags": []
   },
   "outputs": [
    {
     "name": "stdout",
     "output_type": "stream",
     "text": [
      "   id  target\n",
      "0   0       0\n",
      "1   2       1\n",
      "2   3       1\n",
      "3   9       0\n",
      "4  11       1\n"
     ]
    }
   ],
   "source": [
    "clf = linear_model.RidgeClassifier()\n",
    "scores = model_selection.cross_val_score(clf, train_vector, df[\"target\"], cv=3, scoring=\"f1\")\n",
    "clf.fit(train_vector, df[\"target\"])\n",
    "sample_submission = pd.read_csv('/kaggle/input/nlp-getting-started/sample_submission.csv')\n",
    "sample_submission['target'] = clf.predict(test_vector)\n",
    "print(sample_submission.head())\n",
    "sample_submission.to_csv(\"final.csv\", index=False)"
   ]
  }
 ],
 "metadata": {
  "kernelspec": {
   "display_name": "Python 3",
   "language": "python",
   "name": "python3"
  },
  "language_info": {
   "codemirror_mode": {
    "name": "ipython",
    "version": 3
   },
   "file_extension": ".py",
   "mimetype": "text/x-python",
   "name": "python",
   "nbconvert_exporter": "python",
   "pygments_lexer": "ipython3",
   "version": "3.7.12"
  },
  "papermill": {
   "default_parameters": {},
   "duration": 18.035464,
   "end_time": "2023-04-09T14:24:50.439184",
   "environment_variables": {},
   "exception": null,
   "input_path": "__notebook__.ipynb",
   "output_path": "__notebook__.ipynb",
   "parameters": {},
   "start_time": "2023-04-09T14:24:32.403720",
   "version": "2.4.0"
  }
 },
 "nbformat": 4,
 "nbformat_minor": 5
}
